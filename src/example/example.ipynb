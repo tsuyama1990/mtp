{
 "cells": [
  {
   "cell_type": "markdown",
   "metadata": {},
   "source": [
    "# Examples"
   ]
  },
  {
   "cell_type": "markdown",
   "metadata": {},
   "source": [
    "## Conversion ase <> cfg files"
   ]
  },
  {
   "cell_type": "code",
   "execution_count": null,
   "metadata": {},
   "outputs": [],
   "source": [
    "from pathlib import Path\n",
    "from src.utils import atoms2cfg, cfg2atoms # Call the code installed.\n",
    "# from utils import atoms2cfg, cfg2atoms # development\n",
    "from ase.io import read"
   ]
  },
  {
   "cell_type": "code",
   "execution_count": null,
   "metadata": {},
   "outputs": [],
   "source": [
    "current = Path().cwd()\n",
    "outcar_path = current.parents[1] / \"mlip-2/test/examples/00.convert_vasp_outcar/OUTCAR\"\n",
    "traj = read(outcar_path, index=\":\")\n",
    "file = \"./example/test.cfg\"\n",
    "for i,atoms in enumerate(traj):\n",
    "    append = False if i==0 else True\n",
    "    atoms2cfg(atoms, file=file, append=append)\n",
    "    "
   ]
  },
  {
   "cell_type": "code",
   "execution_count": null,
   "metadata": {},
   "outputs": [],
   "source": [
    "a = list(cfg2atoms(file=\"./example/test.cfg\"))\n",
    "b = list(cfg2atoms(file=\"./example/executable.cfg\", symbols={1: \"Ag\"}))"
   ]
  },
  {
   "cell_type": "code",
   "execution_count": null,
   "metadata": {},
   "outputs": [],
   "source": [
    "a"
   ]
  },
  {
   "cell_type": "code",
   "execution_count": null,
   "metadata": {},
   "outputs": [],
   "source": [
    "b"
   ]
  },
  {
   "cell_type": "markdown",
   "metadata": {},
   "source": [
    "## Training"
   ]
  },
  {
   "cell_type": "code",
   "execution_count": null,
   "metadata": {},
   "outputs": [],
   "source": [
    "from src.training import MtpTraining # Call the code installed.\n",
    "from pathlib import Path\n",
    "# from training import MtpTraining # development"
   ]
  },
  {
   "cell_type": "code",
   "execution_count": null,
   "metadata": {},
   "outputs": [],
   "source": [
    "current = Path().cwd()\n",
    "repo_path = current.parents[\n",
    "    next(\n",
    "        i\n",
    "        for i in range(len(current.parents))\n",
    "        if current.parents[i].name == \"mtp4py\"\n",
    "    )\n",
    "]\n",
    "mtp_path = repo_path.parent / \"mlip-2\"\n",
    "\n",
    "setting_path = mtp_path / \"test/examples/01.train/06.mtp\"\n",
    "exe_path = mtp_path / \"bin/mlp\"\n",
    "cfg_path = mtp_path / \"test/examples/01.train/train.cfg\"\n",
    "dataset_name = cfg_path.name.split(\".\")[0]\n",
    "output_path = repo_path / f\"src/example/pot_{dataset_name}.almtp\"\n",
    "\n",
    "mtp = MtpTraining(setting_path, exe_path, cfg_path, output_path)\n",
    "mtp.run()"
   ]
  },
  {
   "cell_type": "markdown",
   "metadata": {},
   "source": [
    "## Infer"
   ]
  },
  {
   "cell_type": "code",
   "execution_count": null,
   "metadata": {},
   "outputs": [],
   "source": [
    "from src.training import MtpTraining # Call the code installed.\n",
    "# from ase_calculator_mtp import AseCalculatorMtp # development\n",
    "from ase.optimize import FIRE\n"
   ]
  },
  {
   "cell_type": "code",
   "execution_count": null,
   "metadata": {},
   "outputs": [],
   "source": [
    "calc = AseCalculatorMtp(output_path)\n",
    "cfgs = list(cfg2atoms(cfg_path))\n",
    "atoms = cfgs[0].copy()\n",
    "atoms.calc = calc\n",
    "with FIRE(atoms, \"./example/test_traj.traj\") as fire:\n",
    "    fire.run()\n"
   ]
  },
  {
   "cell_type": "markdown",
   "metadata": {},
   "source": [
    "# ase db"
   ]
  },
  {
   "cell_type": "code",
   "execution_count": null,
   "metadata": {},
   "outputs": [],
   "source": [
    "from pathlib import Path\n",
    "from ase.io import read\n",
    "from ase.build import sort\n",
    "from ase.calculators.emt import EMT\n",
    "from ase.optimize.fire import FIRE\n",
    "import numpy as np\n",
    "from ase.db import connect\n",
    "from ase import Atom\n",
    "\n",
    "if Path('./test_ase_db.db').exists():\n",
    "    Path('./test_ase_db.db').unlink()\n",
    "db = connect('test_ase_db.db')\n",
    "\n",
    "def save_to_db(atoms, opt_id):\n",
    "    # 構造とエネルギーをデータベースに保存\n",
    "    fmax = np.max(np.linalg.norm(atoms.get_forces(), axis=1))\n",
    "    db.write(atoms, data={\"opt_id\":opt_id})\n",
    "\n",
    "from ase.calculators.lammpslib import LAMMPSlib\n",
    "lammps_command = [\n",
    "    \"pair_style meam\",\n",
    "    f\"pair_coeff * * ./library.meam Pt Fe ./PtFe.meam Pt Fe\",\n",
    "    f\"mass 1 {Atom('Pt').mass}\",\n",
    "    f\"mass 2 {Atom('Fe').mass}\",\n",
    "]\n",
    "\n",
    "calc = LAMMPSlib(lmpcmds=lammps_command, atoms_types={\"Fe\": 2, \"Pt\": 1}, keep_alive=True)\n",
    "\n",
    "def opt(FePt, opt_id):\n",
    "    # for lc in [1.1, 1, 0.9]:\n",
    "    for lc in [1]:\n",
    "        FePt = sort(FePt)\n",
    "        sc = FePt.get_scaled_positions()\n",
    "        FePt.cell *= lc\n",
    "        FePt.set_scaled_positions(sc)\n",
    "        FePt.positions += np.random.normal(0, 0.4, 3*len(FePt)).reshape(-1, 3)\n",
    "\n",
    "        FePt.calc = calc\n",
    "        opt = FIRE(FePt)\n",
    "        opt.attach(save_to_db, interval=1, atoms=FePt, opt_id=opt_id)\n",
    "        opt.run(fmax=0.05)\n",
    "\n",
    "FePt = read(\"./FePt.cif\")\n",
    "FePt = sort(FePt)\n",
    "\n",
    "\n",
    "FePt_rpt = FePt.repeat([2,2,2])\n",
    "#FePt_rpt.symbols[FePt_rpt.symbols==\"Fe\"] = \"Pt\"\n",
    "FePt_rpt = sort(FePt_rpt)\n",
    "print(FePt_rpt.symbols)\n",
    "opt(FePt_rpt, 1)\n",
    "\n",
    "FePt_rpt = FePt.repeat([2,2,2])\n",
    "ids = np.random.choice(np.where(FePt_rpt.symbols == \"Pt\")[0], 3)\n",
    "FePt_rpt.symbols[ids] = \"Fe\"\n",
    "opt(FePt_rpt, 3)\n",
    "\n",
    "FePt_rpt = FePt.repeat([2,2,2])\n",
    "ids = np.random.choice(np.where(FePt_rpt.symbols == \"Fe\")[0], 3)\n",
    "FePt_rpt.symbols[ids] = \"Pt\"\n",
    "print(FePt_rpt)\n",
    "opt(FePt_rpt, 4)\n"
   ]
  },
  {
   "cell_type": "code",
   "execution_count": null,
   "metadata": {},
   "outputs": [],
   "source": [
    "def get_atoms_data():\n",
    "    for row in db.select(\"fmax<1\"):\n",
    "        yield row.toatoms()"
   ]
  },
  {
   "cell_type": "code",
   "execution_count": null,
   "metadata": {},
   "outputs": [],
   "source": []
  },
  {
   "cell_type": "code",
   "execution_count": null,
   "metadata": {},
   "outputs": [],
   "source": [
    "atoms_list = list(get_atoms_data())\n",
    "import importlib\n",
    "import src.lj_optimizer as ljop\n",
    "importlib.reload(ljop)\n",
    "\n",
    "\n",
    "init_eps_dict = {\"Pt\":1, \"Fe\" : 1}\n",
    "init_sigma_dict = {\"Pt\":3, \"Fe\" : 2.3}\n",
    "#lj = ljop.LJTrainerLB(init_eps_dict, init_sigma_dict)\n",
    "lj = ljop.LJTrainer(None, None)\n",
    "eps, sig, chempot = lj.run_minimize(minimized_by=\"ef\", labelled_list_atoms=atoms_list, maxiter=10, save_to_file=\"./washoi.yml\", e_weight=0.1)\n",
    "eps, sig, chempot"
   ]
  },
  {
   "cell_type": "code",
   "execution_count": null,
   "metadata": {},
   "outputs": [],
   "source": [
    "atoms_list = list(get_atoms_data())\n",
    "from src.ase_calculator_mtp import LammpsLJBuilder\n",
    "from plotly import graph_objects as go\n",
    "x= [atoms.get_potential_energy() for atoms in atoms_list]\n",
    "init_eps_dict = {\"Pt\":1.3, \"Fe\" : 1.8}\n",
    "init_sigma_dict = {\"Pt\":2.5, \"Fe\" : 2.0}\n",
    "# init_eps_dict=eps\n",
    "# init_sigma_dict=sig\n",
    "\n",
    "def get_lj_engs():\n",
    "    for atoms in atoms_list:\n",
    "        _atoms = atoms.copy()\n",
    "        _atoms.calc = LammpsLJBuilder().get_calculator_from_file(path_to_yaml=\"./washoi.yml\")\n",
    "        eng = _atoms.get_potential_energy()\n",
    "        yield eng\n",
    "y= [i for i in get_lj_engs()]\n",
    "\n",
    "x = np.array(x)\n",
    "y = np.array(y)\n",
    "print(len(x))\n",
    "fig = go.Figure()\n",
    "fig.add_trace(\n",
    "    go.Scatter(x=x, y=y)\n",
    ")\n"
   ]
  },
  {
   "cell_type": "code",
   "execution_count": null,
   "metadata": {},
   "outputs": [],
   "source": [
    "atoms_list = list(get_atoms_data())\n",
    "from plotly import graph_objects as go\n",
    "x= [atoms.get_forces() for atoms in atoms_list]\n",
    "init_eps_dict = {\"Pt\":2, \"Fe\" : 1.5}\n",
    "init_sigma_dict = {\"Pt\":2.8, \"Fe\" : 2.1}\n",
    "# init_eps_dict=eps\n",
    "# init_sigma_dict=sig\n",
    "\n",
    "def get_lj_engs():\n",
    "    for atoms in atoms_list:\n",
    "        _atoms = atoms.copy()\n",
    "        _atoms.calc = LammpsLJBuilder().get_calculator_from_file(path_to_yaml=\"./washoi.yml\")\n",
    "        eng = _atoms.get_forces()\n",
    "        yield eng\n",
    "y= [i for i in get_lj_engs()]\n",
    "\n",
    "x = np.array(x).reshape(1, -1)[0]\n",
    "y = np.array(y).reshape(1, -1)[0]\n",
    "\n",
    "fig = go.Figure()\n",
    "fig.add_trace(\n",
    "    go.Scatter(x=x[abs(y) < 1], y=y[abs(y) < 1])\n",
    ")\n"
   ]
  },
  {
   "cell_type": "code",
   "execution_count": null,
   "metadata": {},
   "outputs": [],
   "source": [
    "np.array([atoms.get_forces() for atoms in atoms_list]).reshape(1, -1)[0]"
   ]
  },
  {
   "cell_type": "code",
   "execution_count": null,
   "metadata": {},
   "outputs": [],
   "source": [
    "from sqlalchemy import create_engine, Column, Integer, Float, String, func\n",
    "from sqlalchemy.ext.declarative import declarative_base\n",
    "from sqlalchemy.orm import sessionmaker\n",
    "from sqlalchemy.sql import select\n",
    "\n",
    "# Declarative Base の作成\n",
    "Base = declarative_base()\n",
    "\n",
    "# テーブル定義をクラスを使って行う\n",
    "class System(Base):\n",
    "    __tablename__ = 'systems'\n",
    "    \n",
    "    id = Column(Integer, primary_key=True)\n",
    "    calculator = Column(String)\n",
    "    fmax = Column(Float)\n",
    "    # 他のカラムも定義できますが、すべてのカラムが含まれる前提で進めます\n",
    "\n",
    "# データベースエンジンの作成\n",
    "engine = create_engine('sqlite:///test_ase_db.db')\n",
    "Session = sessionmaker(bind=engine)\n",
    "session = Session()\n",
    "\n",
    "# fmaxの上位2位、下位2位のデータを取得\n",
    "subquery_asc = session.query(System.id, System.calculator, System.fmax, \n",
    "                             func.row_number().over(\n",
    "                                 partition_by=System.calculator, \n",
    "                                 order_by=System.fmax.asc()).label('rank_asc')).subquery()\n",
    "\n",
    "subquery_desc = session.query(System.id, System.calculator, System.fmax, \n",
    "                              func.row_number().over(\n",
    "                                  partition_by=System.calculator, \n",
    "                                  order_by=System.fmax.desc()).label('rank_desc')).subquery()\n",
    "\n",
    "# 全カラムを取得しつつ、上位2位、下位2位を取得\n",
    "query = session.query(System.__table__).filter(\n",
    "    subquery_asc.c.rank_asc <= 2\n",
    ").union(\n",
    "    session.query(System.__table__).filter(\n",
    "        subquery_desc.c.rank_desc <= 2\n",
    "    )\n",
    ").order_by(System.calculator, System.fmax)\n",
    "\n",
    "# クエリの実行\n",
    "results = query.all()\n",
    "\n",
    "# 結果の表示\n",
    "for row in results:\n",
    "    print(f\"ID: {row.id}, Calculator: {row.calculator}, Fmax: {row.fmax}\")"
   ]
  },
  {
   "cell_type": "code",
   "execution_count": null,
   "metadata": {},
   "outputs": [],
   "source": [
    "\n",
    "cursor.execute(\"PRAGMA table_info(systems);\")\n",
    "columns = cursor.fetchall()\n",
    "for col in columns:\n",
    "    print(col[1])"
   ]
  },
  {
   "cell_type": "code",
   "execution_count": null,
   "metadata": {},
   "outputs": [],
   "source": [
    "import struct\n",
    "from ase import Atoms\n",
    "# バイナリデータを整数リストに変換\n",
    "binary_data = b'\\x08\\x00\\x00\\x00\\x00\\x00\\x00\\x00'\n",
    "num_values = len(binary_data) // 4  # assuming each value is 4 bytes (e.g., int32)\n",
    "values = struct.unpack(f'{num_values}I', binary_data)  # 'I' for unsigned int\n",
    "print(values)"
   ]
  },
  {
   "cell_type": "code",
   "execution_count": null,
   "metadata": {},
   "outputs": [],
   "source": [
    "from src import libsetter\n",
    "libsetter.data"
   ]
  }
 ],
 "metadata": {
  "kernelspec": {
   "display_name": "Python 3",
   "language": "python",
   "name": "python3"
  },
  "language_info": {
   "codemirror_mode": {
    "name": "ipython",
    "version": 3
   },
   "file_extension": ".py",
   "mimetype": "text/x-python",
   "name": "python",
   "nbconvert_exporter": "python",
   "pygments_lexer": "ipython3",
   "version": "3.10.14"
  }
 },
 "nbformat": 4,
 "nbformat_minor": 2
}
