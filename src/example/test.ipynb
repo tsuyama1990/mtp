{
 "cells": [
  {
   "cell_type": "code",
   "execution_count": 1,
   "metadata": {},
   "outputs": [],
   "source": [
    "from pathlib import Path\n",
    "from src.utils import atoms2cfg, read_cfg\n",
    "from ase.io import read"
   ]
  },
  {
   "cell_type": "code",
   "execution_count": 2,
   "metadata": {},
   "outputs": [],
   "source": [
    "current = Path().cwd()\n",
    "outcar_path = current.parents[1] / \"mlip-3/test/examples/00.convert_vasp_outcar/OUTCAR\"\n",
    "traj = read(outcar_path, index=\":\")\n",
    "file = \"./test.cfg\"\n",
    "for i,atoms in enumerate(traj):\n",
    "    append = False if i==0 else True\n",
    "    atoms2cfg(atoms, file=file, unique_elements=[\"Ag\"], append=append)\n",
    "    "
   ]
  },
  {
   "cell_type": "code",
   "execution_count": 5,
   "metadata": {},
   "outputs": [],
   "source": [
    "a = list(read_cfg(file=\"./test.cfg\", symbols=[\"Ag\"]))\n",
    "b = read_cfg(file=\"./executable.cfg\", symbols=[\"Ag\"])"
   ]
  },
  {
   "cell_type": "code",
   "execution_count": 6,
   "metadata": {},
   "outputs": [
    {
     "data": {
      "text/plain": [
       "[Atoms(symbols='Ag32', pbc=True, cell=[[8.458526959, 1.656720733, 1.673168563], [1.573491987, 8.821430406, -1.494376014], [1.591543182, -1.495192313, 8.82509342]], calculator=SinglePointCalculator(...)),\n",
       " Atoms(symbols='Ag32', pbc=True, cell=[[8.464367542, 1.654782691, 1.677485389], [1.570870501, 8.830852271, -1.499033421], [1.596387395, -1.500887298, 8.836299561]], calculator=SinglePointCalculator(...)),\n",
       " Atoms(symbols='Ag32', pbc=True, cell=[[8.466931764, 1.653931823, 1.679380628], [1.569719577, 8.834988801, -1.501078187], [1.598514175, -1.503387596, 8.841219451]], calculator=SinglePointCalculator(...))]"
      ]
     },
     "execution_count": 6,
     "metadata": {},
     "output_type": "execute_result"
    }
   ],
   "source": [
    "a"
   ]
  },
  {
   "cell_type": "code",
   "execution_count": 6,
   "metadata": {},
   "outputs": [
    {
     "data": {
      "text/plain": [
       "Atoms(symbols='H32', pbc=True, cell=[[8.458527, 1.656721, 1.673169], [1.573492, 8.82143, -1.494376], [1.591543, -1.495192, 8.825093]], calculator=SinglePointCalculator(...))"
      ]
     },
     "execution_count": 6,
     "metadata": {},
     "output_type": "execute_result"
    }
   ],
   "source": [
    "b"
   ]
  },
  {
   "cell_type": "code",
   "execution_count": 7,
   "metadata": {},
   "outputs": [
    {
     "data": {
      "text/plain": [
       "array([ 1.63028165e-03,  1.63509737e-03,  1.27361234e-03,  3.03100848e-04,\n",
       "       -2.93367316e-05, -2.87343416e-04])"
      ]
     },
     "execution_count": 7,
     "metadata": {},
     "output_type": "execute_result"
    }
   ],
   "source": [
    "a[2].get_stress()"
   ]
  },
  {
   "cell_type": "code",
   "execution_count": 8,
   "metadata": {},
   "outputs": [
    {
     "data": {
      "text/plain": [
       "array([ 1.63027594e-03,  1.63510063e-03,  1.27360490e-03,  3.03100166e-04,\n",
       "       -2.93288514e-05, -2.87346597e-04])"
      ]
     },
     "execution_count": 8,
     "metadata": {},
     "output_type": "execute_result"
    }
   ],
   "source": [
    "traj[2].get_stress()"
   ]
  },
  {
   "cell_type": "code",
   "execution_count": 57,
   "metadata": {},
   "outputs": [],
   "source": [
    "from ase import units\n",
    "def get_virial_stress(atoms):\n",
    "    \"\"\"\n",
    "    Calculate the virial stress tensor for an ASE Atoms object.\n",
    "\n",
    "    Parameters:\n",
    "    atoms (ase.Atoms): ASE Atoms object with calculator attached.\n",
    "\n",
    "    Returns:\n",
    "    stress (np.ndarray): Virial stress tensor in Voigt notation (6 components).\n",
    "    \"\"\"\n",
    "\n",
    "    # Ensure the atoms object has a calculator\n",
    "\n",
    "    # Get volume of the system\n",
    "    volume = atoms.get_volume()\n",
    "\n",
    "    # Get forces and positions\n",
    "    forces = atoms.get_forces()\n",
    "    positions = atoms.get_positions()\n",
    "\n",
    "    # Initialize virial tensor\n",
    "    virial = np.zeros((3, 3))\n",
    "\n",
    "    # Calculate the virial contribution\n",
    "    for i in range(len(atoms)):\n",
    "        virial += np.outer(positions[i], forces[i])\n",
    "\n",
    "    # Convert to stress tensor (Voigt notation)\n",
    "    stress_voigt = np.zeros(6)\n",
    "    stress_voigt[0] = virial[0, 0]\n",
    "    stress_voigt[1] = virial[1, 1]\n",
    "    stress_voigt[2] = virial[2, 2]\n",
    "    stress_voigt[3] = virial[1, 2]\n",
    "    stress_voigt[4] = virial[0, 2]\n",
    "    stress_voigt[5] = virial[0, 1]\n",
    "\n",
    "    # Normalize by volume and convert units from eV/Å³ to GPa\n",
    "    # stress_voigt *= units.eV / (1e10 ** 3)\n",
    "    stress_voigt /= volume\n",
    "\n",
    "    return stress_voigt"
   ]
  },
  {
   "cell_type": "code",
   "execution_count": 58,
   "metadata": {},
   "outputs": [
    {
     "data": {
      "text/plain": [
       "array([ 0.00026723,  0.00105734,  0.00107055, -0.00057019,  0.00031717,\n",
       "       -0.0002914 ])"
      ]
     },
     "execution_count": 58,
     "metadata": {},
     "output_type": "execute_result"
    }
   ],
   "source": [
    "get_virial_stress(atoms)"
   ]
  }
 ],
 "metadata": {
  "kernelspec": {
   "display_name": "Python 3",
   "language": "python",
   "name": "python3"
  },
  "language_info": {
   "codemirror_mode": {
    "name": "ipython",
    "version": 3
   },
   "file_extension": ".py",
   "mimetype": "text/x-python",
   "name": "python",
   "nbconvert_exporter": "python",
   "pygments_lexer": "ipython3",
   "version": "3.12.4"
  }
 },
 "nbformat": 4,
 "nbformat_minor": 2
}
